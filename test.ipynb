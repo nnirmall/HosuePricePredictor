{
 "cells": [
  {
   "cell_type": "code",
   "execution_count": 1,
   "id": "90d86259",
   "metadata": {},
   "outputs": [],
   "source": [
    "import joblib"
   ]
  },
  {
   "cell_type": "code",
   "execution_count": 2,
   "id": "eb49793e",
   "metadata": {},
   "outputs": [],
   "source": [
    "model = joblib.load('my_model.pkl')"
   ]
  },
  {
   "cell_type": "code",
   "execution_count": 3,
   "id": "faebbad0",
   "metadata": {},
   "outputs": [],
   "source": [
    "import pandas as pd \n",
    "new_data =  pd.read_csv('out.csv')"
   ]
  },
  {
   "cell_type": "code",
   "execution_count": 4,
   "id": "3f731b8a",
   "metadata": {},
   "outputs": [
    {
     "data": {
      "text/plain": [
       "(4128, 9)"
      ]
     },
     "execution_count": 4,
     "metadata": {},
     "output_type": "execute_result"
    }
   ],
   "source": [
    "new_data.shape"
   ]
  },
  {
   "cell_type": "code",
   "execution_count": 5,
   "id": "edf17734",
   "metadata": {},
   "outputs": [
    {
     "data": {
      "text/html": [
       "<div>\n",
       "<style scoped>\n",
       "    .dataframe tbody tr th:only-of-type {\n",
       "        vertical-align: middle;\n",
       "    }\n",
       "\n",
       "    .dataframe tbody tr th {\n",
       "        vertical-align: top;\n",
       "    }\n",
       "\n",
       "    .dataframe thead th {\n",
       "        text-align: right;\n",
       "    }\n",
       "</style>\n",
       "<table border=\"1\" class=\"dataframe\">\n",
       "  <thead>\n",
       "    <tr style=\"text-align: right;\">\n",
       "      <th></th>\n",
       "      <th>longitude</th>\n",
       "      <th>latitude</th>\n",
       "      <th>housing_median_age</th>\n",
       "      <th>total_rooms</th>\n",
       "      <th>total_bedrooms</th>\n",
       "      <th>population</th>\n",
       "      <th>households</th>\n",
       "      <th>median_income</th>\n",
       "      <th>ocean_proximity</th>\n",
       "    </tr>\n",
       "  </thead>\n",
       "  <tbody>\n",
       "    <tr>\n",
       "      <th>0</th>\n",
       "      <td>-118.39</td>\n",
       "      <td>34.12</td>\n",
       "      <td>29.0</td>\n",
       "      <td>6447.0</td>\n",
       "      <td>1012.0</td>\n",
       "      <td>2184.0</td>\n",
       "      <td>960.0</td>\n",
       "      <td>8.2816</td>\n",
       "      <td>&lt;1H OCEAN</td>\n",
       "    </tr>\n",
       "    <tr>\n",
       "      <th>1</th>\n",
       "      <td>-117.86</td>\n",
       "      <td>33.77</td>\n",
       "      <td>39.0</td>\n",
       "      <td>4159.0</td>\n",
       "      <td>655.0</td>\n",
       "      <td>1669.0</td>\n",
       "      <td>651.0</td>\n",
       "      <td>4.6111</td>\n",
       "      <td>&lt;1H OCEAN</td>\n",
       "    </tr>\n",
       "    <tr>\n",
       "      <th>2</th>\n",
       "      <td>-119.05</td>\n",
       "      <td>34.21</td>\n",
       "      <td>27.0</td>\n",
       "      <td>4357.0</td>\n",
       "      <td>926.0</td>\n",
       "      <td>2110.0</td>\n",
       "      <td>876.0</td>\n",
       "      <td>3.0119</td>\n",
       "      <td>&lt;1H OCEAN</td>\n",
       "    </tr>\n",
       "    <tr>\n",
       "      <th>3</th>\n",
       "      <td>-118.15</td>\n",
       "      <td>34.20</td>\n",
       "      <td>52.0</td>\n",
       "      <td>1786.0</td>\n",
       "      <td>306.0</td>\n",
       "      <td>1018.0</td>\n",
       "      <td>322.0</td>\n",
       "      <td>4.1518</td>\n",
       "      <td>INLAND</td>\n",
       "    </tr>\n",
       "    <tr>\n",
       "      <th>4</th>\n",
       "      <td>-117.68</td>\n",
       "      <td>34.07</td>\n",
       "      <td>32.0</td>\n",
       "      <td>1775.0</td>\n",
       "      <td>314.0</td>\n",
       "      <td>1067.0</td>\n",
       "      <td>302.0</td>\n",
       "      <td>4.0375</td>\n",
       "      <td>INLAND</td>\n",
       "    </tr>\n",
       "  </tbody>\n",
       "</table>\n",
       "</div>"
      ],
      "text/plain": [
       "   longitude  latitude  housing_median_age  total_rooms  total_bedrooms  \\\n",
       "0    -118.39     34.12                29.0       6447.0          1012.0   \n",
       "1    -117.86     33.77                39.0       4159.0           655.0   \n",
       "2    -119.05     34.21                27.0       4357.0           926.0   \n",
       "3    -118.15     34.20                52.0       1786.0           306.0   \n",
       "4    -117.68     34.07                32.0       1775.0           314.0   \n",
       "\n",
       "   population  households  median_income ocean_proximity  \n",
       "0      2184.0       960.0         8.2816       <1H OCEAN  \n",
       "1      1669.0       651.0         4.6111       <1H OCEAN  \n",
       "2      2110.0       876.0         3.0119       <1H OCEAN  \n",
       "3      1018.0       322.0         4.1518          INLAND  \n",
       "4      1067.0       302.0         4.0375          INLAND  "
      ]
     },
     "execution_count": 5,
     "metadata": {},
     "output_type": "execute_result"
    }
   ],
   "source": [
    "new_data.head()"
   ]
  },
  {
   "cell_type": "code",
   "execution_count": 6,
   "id": "2659f1e3",
   "metadata": {},
   "outputs": [
    {
     "data": {
      "text/plain": [
       "<bound method NDFrame.describe of       longitude  latitude  housing_median_age  total_rooms  total_bedrooms  \\\n",
       "0       -118.39     34.12                29.0       6447.0          1012.0   \n",
       "1       -117.86     33.77                39.0       4159.0           655.0   \n",
       "2       -119.05     34.21                27.0       4357.0           926.0   \n",
       "3       -118.15     34.20                52.0       1786.0           306.0   \n",
       "4       -117.68     34.07                32.0       1775.0           314.0   \n",
       "...         ...       ...                 ...          ...             ...   \n",
       "4123    -121.53     38.58                33.0       4988.0          1169.0   \n",
       "4124    -120.44     34.65                30.0       2265.0           512.0   \n",
       "4125    -118.49     34.18                31.0       3073.0           674.0   \n",
       "4126    -117.32     33.99                27.0       5464.0           850.0   \n",
       "4127    -118.91     36.79                19.0       1616.0           324.0   \n",
       "\n",
       "      population  households  median_income ocean_proximity  \n",
       "0         2184.0       960.0         8.2816       <1H OCEAN  \n",
       "1         1669.0       651.0         4.6111       <1H OCEAN  \n",
       "2         2110.0       876.0         3.0119       <1H OCEAN  \n",
       "3         1018.0       322.0         4.1518          INLAND  \n",
       "4         1067.0       302.0         4.0375          INLAND  \n",
       "...          ...         ...            ...             ...  \n",
       "4123      2414.0      1075.0         1.9728          INLAND  \n",
       "4124      1402.0       471.0         1.9750      NEAR OCEAN  \n",
       "4125      1486.0       684.0         4.8984       <1H OCEAN  \n",
       "4126      2400.0       836.0         4.7110          INLAND  \n",
       "4127       187.0        80.0         3.7857          INLAND  \n",
       "\n",
       "[4128 rows x 9 columns]>"
      ]
     },
     "execution_count": 6,
     "metadata": {},
     "output_type": "execute_result"
    }
   ],
   "source": [
    "new_data.describe"
   ]
  },
  {
   "cell_type": "code",
   "execution_count": 13,
   "id": "5dd458a0",
   "metadata": {},
   "outputs": [],
   "source": [
    "%store -r set"
   ]
  },
  {
   "cell_type": "code",
   "execution_count": 21,
   "id": "16d93e34",
   "metadata": {},
   "outputs": [
    {
     "data": {
      "text/plain": [
       "array([491927.46666667, 275573.33333333, 229246.66666667, ...,\n",
       "       341833.46666667, 170426.66666667, 152783.36666667])"
      ]
     },
     "execution_count": 21,
     "metadata": {},
     "output_type": "execute_result"
    }
   ],
   "source": [
    "pred = model.predict(set)\n",
    "pred"
   ]
  },
  {
   "cell_type": "code",
   "execution_count": null,
   "id": "c0104b4c",
   "metadata": {},
   "outputs": [],
   "source": []
  }
 ],
 "metadata": {
  "kernelspec": {
   "display_name": "Python 3",
   "language": "python",
   "name": "python3"
  },
  "language_info": {
   "codemirror_mode": {
    "name": "ipython",
    "version": 3
   },
   "file_extension": ".py",
   "mimetype": "text/x-python",
   "name": "python",
   "nbconvert_exporter": "python",
   "pygments_lexer": "ipython3",
   "version": "3.9.5"
  }
 },
 "nbformat": 4,
 "nbformat_minor": 5
}
